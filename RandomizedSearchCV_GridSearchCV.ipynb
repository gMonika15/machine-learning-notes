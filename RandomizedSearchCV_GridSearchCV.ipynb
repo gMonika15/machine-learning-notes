{
 "cells": [
  {
   "cell_type": "code",
   "execution_count": 14,
   "metadata": {},
   "outputs": [],
   "source": [
    "%matplotlib inline"
   ]
  },
  {
   "cell_type": "code",
   "execution_count": 15,
   "metadata": {},
   "outputs": [],
   "source": [
    "import numpy as np\n",
    "from time import time\n",
    "from scipy.stats import randint as sp_randint\n",
    "from sklearn.model_selection import GridSearchCV\n",
    "from sklearn.model_selection import RandomizedSearchCV\n",
    "from sklearn.datasets import load_digits\n",
    "from sklearn.ensemble import RandomForestClassifier"
   ]
  },
  {
   "cell_type": "code",
   "execution_count": 16,
   "metadata": {},
   "outputs": [],
   "source": [
    "# get data\n",
    "digits = load_digits()  # Source : http://archive.ics.uci.edu/ml/datasets/Pen-Based+Recognition+of+Handwritten+Digits\n",
    "X, y = digits.data, digits.target"
   ]
  },
  {
   "cell_type": "code",
   "execution_count": 17,
   "metadata": {},
   "outputs": [],
   "source": [
    "# build a classifier\n",
    "clf = RandomForestClassifier(n_estimators=50)"
   ]
  },
  {
   "cell_type": "code",
   "execution_count": 18,
   "metadata": {},
   "outputs": [],
   "source": [
    "# specify parameters and distributions to sample from\n",
    "param_dist = {\"max_depth\": [3, None],\n",
    "              \"max_features\": sp_randint(1, 11),\n",
    "              \"min_samples_split\": sp_randint(2, 11),\n",
    "              \"min_samples_leaf\": sp_randint(1, 11),\n",
    "              \"bootstrap\": [True, False],\n",
    "              \"criterion\": [\"gini\", \"entropy\"]}"
   ]
  },
  {
   "cell_type": "code",
   "execution_count": 19,
   "metadata": {},
   "outputs": [],
   "source": [
    "# run randomized search\n",
    "samples = 10  # number of random samples \n",
    "randomCV = RandomizedSearchCV(clf, param_distributions=param_dist, n_iter=samples) #default cv = 3"
   ]
  },
  {
   "cell_type": "code",
   "execution_count": 20,
   "metadata": {},
   "outputs": [
    {
     "name": "stderr",
     "output_type": "stream",
     "text": [
      "C:\\Users\\HEMNATH\\Anaconda3\\lib\\site-packages\\sklearn\\model_selection\\_split.py:2053: FutureWarning: You should specify a value for 'cv' instead of relying on the default value. The default value will change from 3 to 5 in version 0.22.\n",
      "  warnings.warn(CV_WARNING, FutureWarning)\n"
     ]
    },
    {
     "name": "stdout",
     "output_type": "stream",
     "text": [
      "{'bootstrap': True, 'criterion': 'gini', 'max_depth': None, 'max_features': 7, 'min_samples_leaf': 1, 'min_samples_split': 3}\n"
     ]
    }
   ],
   "source": [
    "randomCV.fit(X, y)\n",
    "\n",
    " \n",
    "print(randomCV.best_params_)\n",
    "#print(randomCV.cv_results_)"
   ]
  },
  {
   "cell_type": "code",
   "execution_count": 26,
   "metadata": {},
   "outputs": [
    {
     "data": {
      "text/plain": [
       "RandomForestClassifier(bootstrap=True, class_weight=None, criterion='gini',\n",
       "            max_depth=None, max_features=7, max_leaf_nodes=None,\n",
       "            min_impurity_decrease=0.0, min_impurity_split=None,\n",
       "            min_samples_leaf=1, min_samples_split=3,\n",
       "            min_weight_fraction_leaf=0.0, n_estimators=50, n_jobs=None,\n",
       "            oob_score=False, random_state=None, verbose=0,\n",
       "            warm_start=False)"
      ]
     },
     "execution_count": 26,
     "metadata": {},
     "output_type": "execute_result"
    }
   ],
   "source": [
    "randomCV.best_estimator_"
   ]
  },
  {
   "cell_type": "code",
   "execution_count": 21,
   "metadata": {},
   "outputs": [],
   "source": [
    "# use a full grid over all parameters\n",
    "param_grid = {\"max_depth\": [3, None],\n",
    "              \"max_features\": [1, 3, 10],\n",
    "              \"min_samples_split\": [2, 3, 10],\n",
    "              \"min_samples_leaf\": [1, 3, 10],\n",
    "              \"bootstrap\": [True, False],\n",
    "              \"criterion\": [\"gini\", \"entropy\"]}"
   ]
  },
  {
   "cell_type": "code",
   "execution_count": 22,
   "metadata": {},
   "outputs": [
    {
     "name": "stderr",
     "output_type": "stream",
     "text": [
      "C:\\Users\\HEMNATH\\Anaconda3\\lib\\site-packages\\sklearn\\model_selection\\_split.py:2053: FutureWarning: You should specify a value for 'cv' instead of relying on the default value. The default value will change from 3 to 5 in version 0.22.\n",
      "  warnings.warn(CV_WARNING, FutureWarning)\n"
     ]
    },
    {
     "data": {
      "text/plain": [
       "GridSearchCV(cv='warn', error_score='raise-deprecating',\n",
       "       estimator=RandomForestClassifier(bootstrap=True, class_weight=None, criterion='gini',\n",
       "            max_depth=None, max_features='auto', max_leaf_nodes=None,\n",
       "            min_impurity_decrease=0.0, min_impurity_split=None,\n",
       "            min_samples_leaf=1, min_samples_split=2,\n",
       "            min_weight_fraction_leaf=0.0, n_estimators=50, n_jobs=None,\n",
       "            oob_score=False, random_state=None, verbose=0,\n",
       "            warm_start=False),\n",
       "       fit_params=None, iid='warn', n_jobs=None,\n",
       "       param_grid={'max_depth': [3, None], 'max_features': [1, 3, 10], 'min_samples_split': [2, 3, 10], 'min_samples_leaf': [1, 3, 10], 'bootstrap': [True, False], 'criterion': ['gini', 'entropy']},\n",
       "       pre_dispatch='2*n_jobs', refit=True, return_train_score='warn',\n",
       "       scoring=None, verbose=0)"
      ]
     },
     "execution_count": 22,
     "metadata": {},
     "output_type": "execute_result"
    }
   ],
   "source": [
    "# run grid search\n",
    "grid_search = GridSearchCV(clf, param_grid=param_grid)\n",
    "start = time()\n",
    "grid_search.fit(X, y)"
   ]
  },
  {
   "cell_type": "code",
   "execution_count": 23,
   "metadata": {},
   "outputs": [
    {
     "data": {
      "text/plain": [
       "{'bootstrap': False,\n",
       " 'criterion': 'entropy',\n",
       " 'max_depth': None,\n",
       " 'max_features': 3,\n",
       " 'min_samples_leaf': 1,\n",
       " 'min_samples_split': 2}"
      ]
     },
     "execution_count": 23,
     "metadata": {},
     "output_type": "execute_result"
    }
   ],
   "source": [
    "grid_search.best_params_"
   ]
  },
  {
   "cell_type": "code",
   "execution_count": 24,
   "metadata": {},
   "outputs": [
    {
     "data": {
      "text/plain": [
       "array([0.81246522, 0.82192543, 0.82136895, 0.80077908, 0.83138564,\n",
       "       0.8263773 , 0.8196995 , 0.80745687, 0.81469115, 0.83639399,\n",
       "       0.84752365, 0.85865331, 0.84529772, 0.83861992, 0.84140234,\n",
       "       0.83639399, 0.83361157, 0.83528102, 0.83361157, 0.81580412,\n",
       "       0.82749026, 0.82971619, 0.82470785, 0.82860323, 0.83639399,\n",
       "       0.80411797, 0.82915971, 0.92153589, 0.93489149, 0.92209238,\n",
       "       0.9115192 , 0.90873678, 0.90539789, 0.88258208, 0.87757373,\n",
       "       0.89037284, 0.93155259, 0.93989983, 0.92932666, 0.92654424,\n",
       "       0.92988314, 0.92654424, 0.9015025 , 0.90929327, 0.90428492,\n",
       "       0.93489149, 0.934335  , 0.92765721, 0.92042293, 0.93210907,\n",
       "       0.92765721, 0.90873678, 0.90984975, 0.89593767, 0.80467446,\n",
       "       0.81023929, 0.82025598, 0.82860323, 0.82582081, 0.82081247,\n",
       "       0.80077908, 0.81357819, 0.82248191, 0.83583751, 0.8230384 ,\n",
       "       0.83695047, 0.82749026, 0.85030607, 0.84362827, 0.84752365,\n",
       "       0.83528102, 0.84362827, 0.83973289, 0.81691708, 0.83249861,\n",
       "       0.83750696, 0.84863662, 0.84752365, 0.82359488, 0.83138564,\n",
       "       0.83861992, 0.92320534, 0.92765721, 0.91819699, 0.91875348,\n",
       "       0.91764051, 0.90539789, 0.88592098, 0.86477462, 0.88258208,\n",
       "       0.93210907, 0.9410128 , 0.92654424, 0.93043962, 0.93322204,\n",
       "       0.92932666, 0.9115192 , 0.90372844, 0.90873678, 0.934335  ,\n",
       "       0.93043962, 0.92932666, 0.93043962, 0.92654424, 0.93043962,\n",
       "       0.91096272, 0.90595437, 0.91263216, 0.80189204, 0.81747357,\n",
       "       0.8096828 , 0.81524763, 0.81580412, 0.81469115, 0.81023929,\n",
       "       0.80411797, 0.80856984, 0.83861992, 0.83472454, 0.83472454,\n",
       "       0.83806344, 0.8558709 , 0.83917641, 0.82136895, 0.83472454,\n",
       "       0.83806344, 0.81524763, 0.82359488, 0.81135225, 0.82526433,\n",
       "       0.82192543, 0.81914302, 0.82081247, 0.81858653, 0.81858653,\n",
       "       0.93600445, 0.93711742, 0.93043962, 0.92042293, 0.92877017,\n",
       "       0.92153589, 0.89371174, 0.89037284, 0.88925988, 0.94045632,\n",
       "       0.9376739 , 0.94045632, 0.93266555, 0.93377852, 0.94045632,\n",
       "       0.91430161, 0.9115192 , 0.91708403, 0.94045632, 0.934335  ,\n",
       "       0.93322204, 0.92765721, 0.93155259, 0.9376739 , 0.91541458,\n",
       "       0.91374513, 0.91263216, 0.79521425, 0.82136895, 0.8096828 ,\n",
       "       0.82749026, 0.81413467, 0.80244853, 0.82804674, 0.81357819,\n",
       "       0.80077908, 0.86199221, 0.82860323, 0.85197551, 0.84696717,\n",
       "       0.84362827, 0.84307179, 0.83138564, 0.84752365, 0.84028937,\n",
       "       0.80578742, 0.82749026, 0.82526433, 0.8163606 , 0.82860323,\n",
       "       0.81691708, 0.82415136, 0.8196995 , 0.82749026, 0.93489149,\n",
       "       0.93600445, 0.92543127, 0.91708403, 0.91875348, 0.91374513,\n",
       "       0.90428492, 0.89037284, 0.88814691, 0.94490818, 0.93934335,\n",
       "       0.93656093, 0.93489149, 0.9376739 , 0.93210907, 0.91318865,\n",
       "       0.91430161, 0.91764051, 0.93989983, 0.93322204, 0.93155259,\n",
       "       0.92654424, 0.93155259, 0.93266555, 0.91318865, 0.91374513,\n",
       "       0.91597106])"
      ]
     },
     "execution_count": 24,
     "metadata": {},
     "output_type": "execute_result"
    }
   ],
   "source": [
    "grid_search.cv_results_['mean_test_score']"
   ]
  },
  {
   "cell_type": "code",
   "execution_count": 25,
   "metadata": {},
   "outputs": [
    {
     "data": {
      "text/plain": [
       "RandomForestClassifier(bootstrap=False, class_weight=None,\n",
       "            criterion='entropy', max_depth=None, max_features=3,\n",
       "            max_leaf_nodes=None, min_impurity_decrease=0.0,\n",
       "            min_impurity_split=None, min_samples_leaf=1,\n",
       "            min_samples_split=2, min_weight_fraction_leaf=0.0,\n",
       "            n_estimators=50, n_jobs=None, oob_score=False,\n",
       "            random_state=None, verbose=0, warm_start=False)"
      ]
     },
     "execution_count": 25,
     "metadata": {},
     "output_type": "execute_result"
    }
   ],
   "source": [
    "grid_search.best_estimator_"
   ]
  },
  {
   "cell_type": "code",
   "execution_count": null,
   "metadata": {},
   "outputs": [],
   "source": []
  }
 ],
 "metadata": {
  "kernelspec": {
   "display_name": "Python 3",
   "language": "python",
   "name": "python3"
  },
  "language_info": {
   "codemirror_mode": {
    "name": "ipython",
    "version": 3
   },
   "file_extension": ".py",
   "mimetype": "text/x-python",
   "name": "python",
   "nbconvert_exporter": "python",
   "pygments_lexer": "ipython3",
   "version": "3.7.0"
  }
 },
 "nbformat": 4,
 "nbformat_minor": 1
}
