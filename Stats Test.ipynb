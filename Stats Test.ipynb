{
 "cells": [
  {
   "cell_type": "code",
   "execution_count": 42,
   "metadata": {},
   "outputs": [],
   "source": [
    "import numpy as np\n",
    "import pandas as pd\n",
    "import  scipy.stats                     as  stats\n",
    "import  statsmodels.stats.proportion    as  smp\n",
    "import matplotlib.pyplot     as     plt\n",
    "import seaborn as sns\n",
    "import statsmodels.api         as     sm\n",
    "from   statsmodels.formula.api import ols\n",
    "from scipy.stats             import ttest_1samp,ttest_ind, wilcoxon\n",
    "from statsmodels.stats.power import ttest_power"
   ]
  },
  {
   "cell_type": "code",
   "execution_count": 43,
   "metadata": {},
   "outputs": [],
   "source": [
    "old_sch=np.array([57000,103000,59000,75000,84000,73000,35000,110000,44000,82000,67000,64000,78000,53000,41000,39000,80000,87000,73000,65000,28000,62000,49000,84000,63000,77000,67000,101000,91000,50000])\n",
    "new_sch=np.array([62000,122000,54000,82000,84000,86000,32000,104000,38000,107000,84000,85000,99000,39000,34000,58000,73000,53000,66000,78000,41000,71000,38000,95000,81000,58000,75000,94000,100000,68000])\n"
   ]
  },
  {
   "cell_type": "code",
   "execution_count": 44,
   "metadata": {},
   "outputs": [
    {
     "name": "stdout",
     "output_type": "stream",
     "text": [
      "The mean of the old_scheme is 68033.333\n"
     ]
    }
   ],
   "source": [
    "#the mean of the old_scheme:\n",
    "olds=old_sch.mean()\n",
    "\n",
    "print('The mean of the old_scheme is %1.3f'% olds)"
   ]
  },
  {
   "cell_type": "code",
   "execution_count": 45,
   "metadata": {},
   "outputs": [
    {
     "name": "stdout",
     "output_type": "stream",
     "text": [
      "The mean of the new_scheme is 72033.333\n"
     ]
    }
   ],
   "source": [
    "# the mean of the new_scheme:\n",
    "nesc=new_sch.mean()\n",
    "print('The mean of the new_scheme is %1.3f'%nesc)"
   ]
  },
  {
   "cell_type": "code",
   "execution_count": 70,
   "metadata": {},
   "outputs": [],
   "source": [
    "######2.\tUse the five percent significance test over the data to determine the p value to check new scheme has significantly raised outputs"
   ]
  },
  {
   "cell_type": "markdown",
   "metadata": {},
   "source": [
    "# Step 1: Define null and alternative hypothesis"
   ]
  },
  {
   "cell_type": "markdown",
   "metadata": {},
   "source": [
    "In testing that the new scheme has incresed effect over old scheme, the null hypothesis states that difference in scheme, $\\mu{New}$ equals $\\mu{Old}$. The alternative hypthesis states that difference in scheme are not equal, $\\mu{New}$ $\\neq$ $\\mu{Old}$\n",
    "\n",
    "* $H_0$: $\\mu{New}$ - $\\mu{Old}$ =  0\n",
    "* $H_A$: $\\mu{New}$ - $\\mu{Old}$ $\\neq$  0\n"
   ]
  },
  {
   "cell_type": "markdown",
   "metadata": {},
   "source": [
    "# Step 2: Decide the significance level"
   ]
  },
  {
   "cell_type": "markdown",
   "metadata": {},
   "source": [
    "Here we select \n",
    "α\n",
    "α\n",
    "= 0.05 and sample size < 30 and population standard deviation is not known."
   ]
  },
  {
   "cell_type": "markdown",
   "metadata": {},
   "source": [
    "# Step 3: Identify the test statistic"
   ]
  },
  {
   "cell_type": "markdown",
   "metadata": {},
   "source": [
    "* Sample sizes for both samples are  same.\n",
    "* We have two paired samples and we do not know the population standard deviation.\n",
    "* The sample is not a large sample, n =30. So you use the t distribution and the $t_STAT$ test statistic for two sample paired test."
   ]
  },
  {
   "cell_type": "markdown",
   "metadata": {},
   "source": [
    "# Step 4: Calculate the p - value and test statistic"
   ]
  },
  {
   "cell_type": "markdown",
   "metadata": {},
   "source": [
    "Here we give the two sample observations as input. This function returns t statistic and two-tailed p value.**"
   ]
  },
  {
   "cell_type": "code",
   "execution_count": 60,
   "metadata": {},
   "outputs": [
    {
     "name": "stdout",
     "output_type": "stream",
     "text": [
      "P Value 0.131\n",
      "t_statistic 1.556\n"
     ]
    }
   ],
   "source": [
    "t_statistic, p_value  =  stats.ttest_rel(new_sch, old_sch )\n",
    "print('P Value %1.3f' % p_value)  \n",
    "print('t_statistic %1.3f'%t_statistic)"
   ]
  },
  {
   "cell_type": "markdown",
   "metadata": {},
   "source": [
    "# Step 5: Decide to reject or accept null hypothesis"
   ]
  },
  {
   "cell_type": "markdown",
   "metadata": {},
   "source": [
    "In this example, p value is 0.131 and it is greater than 5% level of significance\n",
    "\n",
    "So the statistical decision is that we fail to reject the null hypothesis at 5% level of significance.\n",
    "\n",
    "### So there is  insufficient evidence  to reject the null hypothesis that the new scheme has significantly raised outputs"
   ]
  },
  {
   "cell_type": "code",
   "execution_count": 68,
   "metadata": {},
   "outputs": [],
   "source": [
    "#####   The probability of a type 1 error"
   ]
  },
  {
   "cell_type": "code",
   "execution_count": 62,
   "metadata": {},
   "outputs": [
    {
     "name": "stdout",
     "output_type": "stream",
     "text": [
      "12105\n"
     ]
    }
   ],
   "source": [
    "n         = 30    # sample size\n",
    "sigma     = new_sch.std()  # population standard deviation\n",
    "serr      = sigma / np.sqrt(n) # Standard Error\n",
    "\n",
    "alpha     = 0.05     # significance level\n",
    "mu0       = 5000 #  hypothetical lower bound\n",
    "q         = int(round(stats.norm.isf(q =  alpha, loc = mu0, scale = serr),0))\n",
    "print(q)"
   ]
  },
  {
   "cell_type": "markdown",
   "metadata": {},
   "source": [
    "* Assume actual mean new_sch is 72033.333 \n",
    "* We need to find the P(Population mean $\\<$ 72033.333  | $H_0$ is true)"
   ]
  },
  {
   "cell_type": "code",
   "execution_count": 69,
   "metadata": {},
   "outputs": [
    {
     "name": "stdout",
     "output_type": "stream",
     "text": [
      "At 5 % level of significance, the probability of having type I error\n",
      "       for a sample size of 30  is 1.0000\n"
     ]
    }
   ],
   "source": [
    "mu1  = 72033.333 # Actual mean\n",
    "\n",
    "p = round(1 - stats.norm.cdf(q, loc = mu1, scale = serr),4)\n",
    "print('At 5 %s level of significance, the probability of having type I error\\n\\\n",
    "       for a sample size of 30  is %2.4f' %('%',p))\n"
   ]
  },
  {
   "cell_type": "code",
   "execution_count": null,
   "metadata": {},
   "outputs": [],
   "source": []
  }
 ],
 "metadata": {
  "kernelspec": {
   "display_name": "Python 3",
   "language": "python",
   "name": "python3"
  },
  "language_info": {
   "codemirror_mode": {
    "name": "ipython",
    "version": 3
   },
   "file_extension": ".py",
   "mimetype": "text/x-python",
   "name": "python",
   "nbconvert_exporter": "python",
   "pygments_lexer": "ipython3",
   "version": "3.7.0"
  }
 },
 "nbformat": 4,
 "nbformat_minor": 2
}
