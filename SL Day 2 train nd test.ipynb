{
 "cells": [
  {
   "cell_type": "code",
   "execution_count": null,
   "metadata": {},
   "outputs": [],
   "source": [
    "import numpy as np\n",
    "import pandas as pd\n",
    "from pandas import Series,DataFrame\n",
    "import matplotlib.pyplot as plt\n",
    "import seaborn as sns\n",
    "%matplotlib inline\n",
    "from sklearn.linear_model import LinearRegression# import the function\n",
    "from sklearn.model_selection import train_test_split"
   ]
  },
  {
   "cell_type": "code",
   "execution_count": null,
   "metadata": {},
   "outputs": [],
   "source": [
    "df=pd.read_csv('LGD_DATA.csv')\n",
    "df.head()"
   ]
  },
  {
   "cell_type": "code",
   "execution_count": 96,
   "metadata": {},
   "outputs": [
    {
     "data": {
      "text/html": [
       "<div>\n",
       "<style scoped>\n",
       "    .dataframe tbody tr th:only-of-type {\n",
       "        vertical-align: middle;\n",
       "    }\n",
       "\n",
       "    .dataframe tbody tr th {\n",
       "        vertical-align: top;\n",
       "    }\n",
       "\n",
       "    .dataframe thead th {\n",
       "        text-align: right;\n",
       "    }\n",
       "</style>\n",
       "<table border=\"1\" class=\"dataframe\">\n",
       "  <thead>\n",
       "    <tr style=\"text-align: right;\">\n",
       "      <th></th>\n",
       "      <th>Ac_No</th>\n",
       "      <th>Age</th>\n",
       "      <th>Years of Experience</th>\n",
       "      <th>Number of Vehicles</th>\n",
       "      <th>Losses in Thousands</th>\n",
       "      <th>Gender_M</th>\n",
       "      <th>Married_Single</th>\n",
       "    </tr>\n",
       "  </thead>\n",
       "  <tbody>\n",
       "    <tr>\n",
       "      <th>0</th>\n",
       "      <td>150024</td>\n",
       "      <td>24</td>\n",
       "      <td>5</td>\n",
       "      <td>1</td>\n",
       "      <td>203.319595</td>\n",
       "      <td>1</td>\n",
       "      <td>0</td>\n",
       "    </tr>\n",
       "    <tr>\n",
       "      <th>1</th>\n",
       "      <td>144880</td>\n",
       "      <td>31</td>\n",
       "      <td>10</td>\n",
       "      <td>1</td>\n",
       "      <td>402.197302</td>\n",
       "      <td>0</td>\n",
       "      <td>1</td>\n",
       "    </tr>\n",
       "    <tr>\n",
       "      <th>2</th>\n",
       "      <td>133742</td>\n",
       "      <td>56</td>\n",
       "      <td>37</td>\n",
       "      <td>1</td>\n",
       "      <td>553.132096</td>\n",
       "      <td>1</td>\n",
       "      <td>0</td>\n",
       "    </tr>\n",
       "    <tr>\n",
       "      <th>3</th>\n",
       "      <td>151282</td>\n",
       "      <td>52</td>\n",
       "      <td>31</td>\n",
       "      <td>1</td>\n",
       "      <td>292.430579</td>\n",
       "      <td>0</td>\n",
       "      <td>0</td>\n",
       "    </tr>\n",
       "    <tr>\n",
       "      <th>4</th>\n",
       "      <td>174407</td>\n",
       "      <td>20</td>\n",
       "      <td>3</td>\n",
       "      <td>1</td>\n",
       "      <td>246.540576</td>\n",
       "      <td>1</td>\n",
       "      <td>1</td>\n",
       "    </tr>\n",
       "  </tbody>\n",
       "</table>\n",
       "</div>"
      ],
      "text/plain": [
       "    Ac_No  Age  Years of Experience  Number of Vehicles  Losses in Thousands  \\\n",
       "0  150024   24                    5                   1           203.319595   \n",
       "1  144880   31                   10                   1           402.197302   \n",
       "2  133742   56                   37                   1           553.132096   \n",
       "3  151282   52                   31                   1           292.430579   \n",
       "4  174407   20                    3                   1           246.540576   \n",
       "\n",
       "   Gender_M  Married_Single  \n",
       "0         1               0  \n",
       "1         0               1  \n",
       "2         1               0  \n",
       "3         0               0  \n",
       "4         1               1  "
      ]
     },
     "execution_count": 96,
     "metadata": {},
     "output_type": "execute_result"
    }
   ],
   "source": [
    "df_new=pd.get_dummies(df,drop_first=True)\n",
    "df_new.head()"
   ]
  },
  {
   "cell_type": "code",
   "execution_count": 97,
   "metadata": {},
   "outputs": [],
   "source": [
    "#decide  your regressor and predictor variables\n",
    "x=df_new.iloc[:,[1,3,5,6]]#gives the IDV\n",
    "y=df_new['Losses in Thousands']"
   ]
  },
  {
   "cell_type": "code",
   "execution_count": 98,
   "metadata": {},
   "outputs": [
    {
     "name": "stdout",
     "output_type": "stream",
     "text": [
      "539.6565230110673\n",
      "[ -6.14900704  -1.79059246  97.23493268 136.7922503 ]\n"
     ]
    }
   ],
   "source": [
    "x_train,x_test,y_train,y_test=train_test_split(x,y,test_size=0.3,random_state=1)\n",
    "ln=LinearRegression()#call the function\n",
    "ln.fit(x_train,y_train)#fit the model\n",
    "print(ln.intercept_)# get the intercepts\n",
    "print(ln.coef_)#get the betas\n"
   ]
  },
  {
   "cell_type": "code",
   "execution_count": 110,
   "metadata": {},
   "outputs": [
    {
     "name": "stdout",
     "output_type": "stream",
     "text": [
      "[211.59660727 232.98340077 394.37167922 ... 165.34432335 508.63499083\n",
      " 336.0908435 ]\n",
      "[534.92615816 495.96502648 397.21599832 ... 240.92300027 437.69122548\n",
      " 321.5015043 ]\n"
     ]
    }
   ],
   "source": [
    "#get the error parameter\n",
    "y_trainp=ln.predict(x_train)\n",
    "print(y_trainp)\n",
    "y_testp=ln.predict(x_test)\n",
    "print(y_testp)\n",
    "\n"
   ]
  },
  {
   "cell_type": "code",
   "execution_count": 111,
   "metadata": {},
   "outputs": [
    {
     "name": "stdout",
     "output_type": "stream",
     "text": [
      "14021    669.103689\n",
      "10757    350.160528\n",
      "12299    340.235414\n",
      "12478    482.276457\n",
      "3207     353.951666\n",
      "Name: Losses in Thousands, dtype: float64\n"
     ]
    }
   ],
   "source": [
    "print(y_train.head())"
   ]
  },
  {
   "cell_type": "code",
   "execution_count": 112,
   "metadata": {},
   "outputs": [
    {
     "name": "stdout",
     "output_type": "stream",
     "text": [
      "479669120.804764\n"
     ]
    }
   ],
   "source": [
    "SSE=sum((y_train-y_trainp)**2)\n",
    "print(SSE)"
   ]
  },
  {
   "cell_type": "code",
   "execution_count": 113,
   "metadata": {},
   "outputs": [
    {
     "name": "stdout",
     "output_type": "stream",
     "text": [
      "689725424.274319\n"
     ]
    }
   ],
   "source": [
    "TSS=sum((y_train-np.mean(y_train))**2)\n",
    "print(TSS)"
   ]
  },
  {
   "cell_type": "code",
   "execution_count": 114,
   "metadata": {},
   "outputs": [
    {
     "name": "stdout",
     "output_type": "stream",
     "text": [
      "0.30455061692203333\n"
     ]
    }
   ],
   "source": [
    "R2train=1-(SSE/TSS)\n",
    "print(R2train)"
   ]
  },
  {
   "cell_type": "code",
   "execution_count": 115,
   "metadata": {},
   "outputs": [
    {
     "name": "stdout",
     "output_type": "stream",
     "text": [
      "207618480.25806\n"
     ]
    }
   ],
   "source": [
    "SSEtes=sum((y_test-y_testp)**2)\n",
    "print(SSEtes)"
   ]
  },
  {
   "cell_type": "code",
   "execution_count": 116,
   "metadata": {},
   "outputs": [
    {
     "name": "stdout",
     "output_type": "stream",
     "text": [
      "294516261.81970507\n"
     ]
    }
   ],
   "source": [
    "TSStes=sum((y_test-np.mean(y_test))**2)\n",
    "print(TSStes)"
   ]
  },
  {
   "cell_type": "code",
   "execution_count": 117,
   "metadata": {},
   "outputs": [
    {
     "name": "stdout",
     "output_type": "stream",
     "text": [
      "0.2950525754494383\n"
     ]
    }
   ],
   "source": [
    "R2test=1-(SSEtes/TSStes)\n",
    "print(R2test)"
   ]
  },
  {
   "cell_type": "code",
   "execution_count": null,
   "metadata": {},
   "outputs": [],
   "source": []
  }
 ],
 "metadata": {
  "kernelspec": {
   "display_name": "Python 3",
   "language": "python",
   "name": "python3"
  },
  "language_info": {
   "codemirror_mode": {
    "name": "ipython",
    "version": 3
   },
   "file_extension": ".py",
   "mimetype": "text/x-python",
   "name": "python",
   "nbconvert_exporter": "python",
   "pygments_lexer": "ipython3",
   "version": "3.7.0"
  }
 },
 "nbformat": 4,
 "nbformat_minor": 2
}
