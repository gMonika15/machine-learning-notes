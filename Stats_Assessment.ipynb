{
 "cells": [
  {
   "cell_type": "code",
   "execution_count": 5,
   "metadata": {},
   "outputs": [],
   "source": [
    "import numpy as np\n",
    "import pandas as pd\n",
    "import seaborn as sns\n",
    "import matplotlib.pyplot as plt\n",
    "import warnings\n",
    "warnings.filterwarnings('ignore')\n",
    "%matplotlib inline\n",
    "\n",
    "import scipy.stats as stats"
   ]
  },
  {
   "cell_type": "markdown",
   "metadata": {},
   "source": [
    "# Input the data"
   ]
  },
  {
   "cell_type": "code",
   "execution_count": 7,
   "metadata": {},
   "outputs": [],
   "source": [
    "oscheme = np.array([57,103,59,75,84,73,35,110,44,82,67,64,78,53,41,39,80,87,73,65,28,62,49,84,63,77,67,101,91,50]) #Old Scheme data\n",
    "nscheme = np.array([62,122,54,82,84,86,32,104,38,107,84,85,99,39,34,58,73,53,66,78,41,71,38,95,81,58,75,94,100,68]) #New Scheme data"
   ]
  },
  {
   "cell_type": "markdown",
   "metadata": {},
   "source": [
    "1.\tFind the mean of old scheme and new scheme column. "
   ]
  },
  {
   "cell_type": "code",
   "execution_count": 9,
   "metadata": {},
   "outputs": [
    {
     "name": "stdout",
     "output_type": "stream",
     "text": [
      "The mean of old scheme column is 68.03\n",
      "The mean of new scheme column is 72.03\n"
     ]
    }
   ],
   "source": [
    "omean= np.mean(oscheme)\n",
    "nmean= np.mean(nscheme)\n",
    "\n",
    "print('The mean of old scheme column is %3.2f' %omean)\n",
    "print('The mean of new scheme column is %3.2f' %nmean)"
   ]
  },
  {
   "cell_type": "markdown",
   "metadata": {},
   "source": [
    "2.\tUse the five percent significance test over the data to determine the p value to check new scheme has significantly raised outputs? \n",
    "\n",
    "Answer in Step 4 of the Hypothesis below\n",
    "\n",
    "3.\tWhat conclusion does the test (p-value) lead to? \n",
    "\n",
    "Answer in Step 5 of the Hypothesis below"
   ]
  },
  {
   "cell_type": "markdown",
   "metadata": {},
   "source": [
    "### Step 1: Define null and alternative hypotheses"
   ]
  },
  {
   "cell_type": "markdown",
   "metadata": {},
   "source": [
    "In testing whether output from new scheme is significantly different from old scheme, the null hypothesis states that the mean monthly output, $\\mu{Old Scheme}$ equals $\\mu{New Scheme}$. The alternative hypothesis states that difference in output is more than 0, $\\mu{Old Scheme}$ $\\neq$ $\\mu{New Scheme}$\n",
    "\n",
    "* $H_0$: $\\mu{Old Scheme}$ - $\\mu{New Scheme}$ =  0\n",
    "* $H_A$: $\\mu{Old Scheme}$ - $\\mu{New Scheme}$ $\\neq$  0"
   ]
  },
  {
   "cell_type": "markdown",
   "metadata": {},
   "source": [
    "### Step 2: Decide the significance level"
   ]
  },
  {
   "cell_type": "markdown",
   "metadata": {},
   "source": [
    "Here we select $\\alpha$ = 0.05 and population standard deviation is not known."
   ]
  },
  {
   "cell_type": "markdown",
   "metadata": {},
   "source": [
    "### Step 3: Identify the test statistic"
   ]
  },
  {
   "cell_type": "markdown",
   "metadata": {},
   "source": [
    "* Sample sizes for both samples are  same.\n",
    "* We have two paired samples and we do not know the population standard deviation.\n",
    "* We use the t distribution and the $t_STAT$ test statistic for two sample paired test."
   ]
  },
  {
   "cell_type": "markdown",
   "metadata": {},
   "source": [
    "### Step 4: Calculate the p - value and test statistic"
   ]
  },
  {
   "cell_type": "code",
   "execution_count": 49,
   "metadata": {
    "scrolled": true
   },
   "outputs": [
    {
     "name": "stdout",
     "output_type": "stream",
     "text": [
      "P Value 0.131\n"
     ]
    }
   ],
   "source": [
    "t_statistic, p_value  =  stats.ttest_rel(oscheme, nscheme)\n",
    "print('P Value %1.3f' % p_value)  "
   ]
  },
  {
   "cell_type": "code",
   "execution_count": 24,
   "metadata": {},
   "outputs": [
    {
     "data": {
      "text/plain": [
       "True"
      ]
     },
     "execution_count": 24,
     "metadata": {},
     "output_type": "execute_result"
    }
   ],
   "source": [
    "p_value > 0.05 #p critical value is 5%, i.e., 0.05"
   ]
  },
  {
   "cell_type": "markdown",
   "metadata": {},
   "source": [
    "### Step 5:  Decide to reject or accept null hypothesis"
   ]
  },
  {
   "cell_type": "markdown",
   "metadata": {},
   "source": [
    "The p value is 0.131 which is more than 5% level of significance\n",
    "\n",
    "So, the statistical decision is fail to reject the null hypothesis at 5% level of significance.\n",
    "\n",
    "### So there is no sufficient evidence that the montly output with old scheme and new scheme are not equal. So we will say that outputs are similar with old scheme and new scheme"
   ]
  },
  {
   "cell_type": "markdown",
   "metadata": {},
   "source": [
    "4.\tSuppose it has been calculated that in order for Titan to break even, the average output must increase by £5000 in the scheme compared to the old scheme. If this figure is alternative hypothesis, what is:"
   ]
  },
  {
   "cell_type": "markdown",
   "metadata": {},
   "source": [
    "If we increase the avg output in new scheme by 5k, we will get the new array and then the values will be"
   ]
  },
  {
   "cell_type": "code",
   "execution_count": 54,
   "metadata": {},
   "outputs": [
    {
     "name": "stdout",
     "output_type": "stream",
     "text": [
      "P Value for the difference 0.002\n"
     ]
    }
   ],
   "source": [
    "nschemeincr = nscheme +5\n",
    "\n",
    "t_statistic, p_value  =  stats.ttest_rel(oscheme, nschemeincr)\n",
    "print('P Value for the difference %1.3f' % p_value) "
   ]
  },
  {
   "cell_type": "markdown",
   "metadata": {},
   "source": [
    "a) The probability of a type 1 error? "
   ]
  },
  {
   "cell_type": "markdown",
   "metadata": {},
   "source": [
    "As the question suggested that after adding 5k, we get the actual value to make break even, for which we calculated the pvalue of 0.002, our alpha value is 0.05\n",
    "\n",
    "which means for all the value above 0.002 the null hypothesis should be true\n",
    "\n",
    "The type I error is when the actual null hypothesis is true but we rejected the null hypothsis\n",
    "\n",
    "we are rejecting the null hypothesis after 5% level of significance when it should be 0.2%\n",
    "\n",
    "so the probability of making this error is :"
   ]
  },
  {
   "cell_type": "code",
   "execution_count": 53,
   "metadata": {},
   "outputs": [
    {
     "name": "stdout",
     "output_type": "stream",
     "text": [
      "The probability of making type 1 error is 0.970\n"
     ]
    }
   ],
   "source": [
    "alpha = 0.05\n",
    "\n",
    "probtype1 = (alpha-p_value)/ alpha\n",
    "\n",
    "print('The probability of making type 1 error is %1.3f' %probtype1)"
   ]
  },
  {
   "cell_type": "markdown",
   "metadata": {},
   "source": [
    "b) What is the p- value of the hypothesis test if we test for a difference of $5000?"
   ]
  },
  {
   "cell_type": "markdown",
   "metadata": {},
   "source": [
    "The p value of the hypothesis testing for a difference of 5k is 0.002 which is less than our level of significance of 0.05 (5%).\n",
    "\n",
    "So we will reject the null hypothesis and state that there is a significance difference in new and old scheme output\n",
    "\n",
    "### The output with old scheme is significantly lower than the output with new scheme"
   ]
  },
  {
   "cell_type": "markdown",
   "metadata": {},
   "source": [
    "The End"
   ]
  }
 ],
 "metadata": {
  "kernelspec": {
   "display_name": "Python 3",
   "language": "python",
   "name": "python3"
  },
  "language_info": {
   "codemirror_mode": {
    "name": "ipython",
    "version": 3
   },
   "file_extension": ".py",
   "mimetype": "text/x-python",
   "name": "python",
   "nbconvert_exporter": "python",
   "pygments_lexer": "ipython3",
   "version": "3.7.0"
  }
 },
 "nbformat": 4,
 "nbformat_minor": 2
}
