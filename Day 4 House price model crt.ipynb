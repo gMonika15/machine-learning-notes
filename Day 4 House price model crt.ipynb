{
 "cells": [
  {
   "cell_type": "code",
   "execution_count": 102,
   "metadata": {},
   "outputs": [],
   "source": [
    "import numpy as np\n",
    "import pandas as pd\n",
    "import seaborn as sns\n",
    "from pandas import Series,DataFrame\n",
    "from sklearn.model_selection import train_test_split\n",
    "from sklearn.preprocessing import  StandardScaler\n",
    "from sklearn.tree import DecisionTreeRegressor\n",
    "from sklearn.ensemble import RandomForestRegressor,BaggingRegressor\n",
    "from sklearn.linear_model import LinearRegression\n",
    "from sklearn import metrics\n",
    "from sklearn.decomposition import PCA\n"
   ]
  },
  {
   "cell_type": "code",
   "execution_count": 103,
   "metadata": {},
   "outputs": [],
   "source": [
    "Train=pd.read_csv('house_price_train.csv')\n",
    "Test=pd.read_csv('house_price_test.csv')"
   ]
  },
  {
   "cell_type": "code",
   "execution_count": 104,
   "metadata": {},
   "outputs": [
    {
     "data": {
      "text/html": [
       "<div>\n",
       "<style scoped>\n",
       "    .dataframe tbody tr th:only-of-type {\n",
       "        vertical-align: middle;\n",
       "    }\n",
       "\n",
       "    .dataframe tbody tr th {\n",
       "        vertical-align: top;\n",
       "    }\n",
       "\n",
       "    .dataframe thead th {\n",
       "        text-align: right;\n",
       "    }\n",
       "</style>\n",
       "<table border=\"1\" class=\"dataframe\">\n",
       "  <thead>\n",
       "    <tr style=\"text-align: right;\">\n",
       "      <th></th>\n",
       "      <th>Id</th>\n",
       "      <th>MSSubClass</th>\n",
       "      <th>MSZoning</th>\n",
       "      <th>LotFrontage</th>\n",
       "      <th>LotArea</th>\n",
       "      <th>Street</th>\n",
       "      <th>Alley</th>\n",
       "      <th>LotShape</th>\n",
       "      <th>LandContour</th>\n",
       "      <th>Utilities</th>\n",
       "      <th>...</th>\n",
       "      <th>PoolArea</th>\n",
       "      <th>PoolQC</th>\n",
       "      <th>Fence</th>\n",
       "      <th>MiscFeature</th>\n",
       "      <th>MiscVal</th>\n",
       "      <th>MoSold</th>\n",
       "      <th>YrSold</th>\n",
       "      <th>SaleType</th>\n",
       "      <th>SaleCondition</th>\n",
       "      <th>SalePrice</th>\n",
       "    </tr>\n",
       "  </thead>\n",
       "  <tbody>\n",
       "    <tr>\n",
       "      <th>0</th>\n",
       "      <td>1</td>\n",
       "      <td>60</td>\n",
       "      <td>RL</td>\n",
       "      <td>65</td>\n",
       "      <td>8450</td>\n",
       "      <td>Pave</td>\n",
       "      <td>Grvl</td>\n",
       "      <td>Reg</td>\n",
       "      <td>Lvl</td>\n",
       "      <td>AllPub</td>\n",
       "      <td>...</td>\n",
       "      <td>0</td>\n",
       "      <td>Gd</td>\n",
       "      <td>MnPrv</td>\n",
       "      <td>Shed</td>\n",
       "      <td>0</td>\n",
       "      <td>2</td>\n",
       "      <td>2008</td>\n",
       "      <td>WD</td>\n",
       "      <td>Normal</td>\n",
       "      <td>208500</td>\n",
       "    </tr>\n",
       "    <tr>\n",
       "      <th>1</th>\n",
       "      <td>2</td>\n",
       "      <td>20</td>\n",
       "      <td>RL</td>\n",
       "      <td>80</td>\n",
       "      <td>9600</td>\n",
       "      <td>Pave</td>\n",
       "      <td>Grvl</td>\n",
       "      <td>Reg</td>\n",
       "      <td>Lvl</td>\n",
       "      <td>AllPub</td>\n",
       "      <td>...</td>\n",
       "      <td>0</td>\n",
       "      <td>Gd</td>\n",
       "      <td>MnPrv</td>\n",
       "      <td>Shed</td>\n",
       "      <td>0</td>\n",
       "      <td>5</td>\n",
       "      <td>2007</td>\n",
       "      <td>WD</td>\n",
       "      <td>Normal</td>\n",
       "      <td>181500</td>\n",
       "    </tr>\n",
       "    <tr>\n",
       "      <th>2</th>\n",
       "      <td>3</td>\n",
       "      <td>60</td>\n",
       "      <td>RL</td>\n",
       "      <td>68</td>\n",
       "      <td>11250</td>\n",
       "      <td>Pave</td>\n",
       "      <td>Grvl</td>\n",
       "      <td>IR1</td>\n",
       "      <td>Lvl</td>\n",
       "      <td>AllPub</td>\n",
       "      <td>...</td>\n",
       "      <td>0</td>\n",
       "      <td>Gd</td>\n",
       "      <td>MnPrv</td>\n",
       "      <td>Shed</td>\n",
       "      <td>0</td>\n",
       "      <td>9</td>\n",
       "      <td>2008</td>\n",
       "      <td>WD</td>\n",
       "      <td>Normal</td>\n",
       "      <td>223500</td>\n",
       "    </tr>\n",
       "    <tr>\n",
       "      <th>3</th>\n",
       "      <td>4</td>\n",
       "      <td>70</td>\n",
       "      <td>RL</td>\n",
       "      <td>60</td>\n",
       "      <td>9550</td>\n",
       "      <td>Pave</td>\n",
       "      <td>Grvl</td>\n",
       "      <td>IR1</td>\n",
       "      <td>Lvl</td>\n",
       "      <td>AllPub</td>\n",
       "      <td>...</td>\n",
       "      <td>0</td>\n",
       "      <td>Gd</td>\n",
       "      <td>MnPrv</td>\n",
       "      <td>Shed</td>\n",
       "      <td>0</td>\n",
       "      <td>2</td>\n",
       "      <td>2006</td>\n",
       "      <td>WD</td>\n",
       "      <td>Abnorml</td>\n",
       "      <td>140000</td>\n",
       "    </tr>\n",
       "    <tr>\n",
       "      <th>4</th>\n",
       "      <td>5</td>\n",
       "      <td>60</td>\n",
       "      <td>RL</td>\n",
       "      <td>84</td>\n",
       "      <td>14260</td>\n",
       "      <td>Pave</td>\n",
       "      <td>Grvl</td>\n",
       "      <td>IR1</td>\n",
       "      <td>Lvl</td>\n",
       "      <td>AllPub</td>\n",
       "      <td>...</td>\n",
       "      <td>0</td>\n",
       "      <td>Gd</td>\n",
       "      <td>MnPrv</td>\n",
       "      <td>Shed</td>\n",
       "      <td>0</td>\n",
       "      <td>12</td>\n",
       "      <td>2008</td>\n",
       "      <td>WD</td>\n",
       "      <td>Normal</td>\n",
       "      <td>250000</td>\n",
       "    </tr>\n",
       "  </tbody>\n",
       "</table>\n",
       "<p>5 rows × 81 columns</p>\n",
       "</div>"
      ],
      "text/plain": [
       "   Id  MSSubClass MSZoning  LotFrontage  LotArea Street Alley LotShape  \\\n",
       "0   1          60       RL           65     8450   Pave  Grvl      Reg   \n",
       "1   2          20       RL           80     9600   Pave  Grvl      Reg   \n",
       "2   3          60       RL           68    11250   Pave  Grvl      IR1   \n",
       "3   4          70       RL           60     9550   Pave  Grvl      IR1   \n",
       "4   5          60       RL           84    14260   Pave  Grvl      IR1   \n",
       "\n",
       "  LandContour Utilities    ...     PoolArea PoolQC  Fence MiscFeature MiscVal  \\\n",
       "0         Lvl    AllPub    ...            0     Gd  MnPrv        Shed       0   \n",
       "1         Lvl    AllPub    ...            0     Gd  MnPrv        Shed       0   \n",
       "2         Lvl    AllPub    ...            0     Gd  MnPrv        Shed       0   \n",
       "3         Lvl    AllPub    ...            0     Gd  MnPrv        Shed       0   \n",
       "4         Lvl    AllPub    ...            0     Gd  MnPrv        Shed       0   \n",
       "\n",
       "  MoSold YrSold  SaleType  SaleCondition  SalePrice  \n",
       "0      2   2008        WD         Normal     208500  \n",
       "1      5   2007        WD         Normal     181500  \n",
       "2      9   2008        WD         Normal     223500  \n",
       "3      2   2006        WD        Abnorml     140000  \n",
       "4     12   2008        WD         Normal     250000  \n",
       "\n",
       "[5 rows x 81 columns]"
      ]
     },
     "execution_count": 104,
     "metadata": {},
     "output_type": "execute_result"
    }
   ],
   "source": [
    "Train.head()"
   ]
  },
  {
   "cell_type": "code",
   "execution_count": 105,
   "metadata": {},
   "outputs": [
    {
     "data": {
      "text/plain": [
       "(1460, 81)"
      ]
     },
     "execution_count": 105,
     "metadata": {},
     "output_type": "execute_result"
    }
   ],
   "source": [
    "Train.shape"
   ]
  },
  {
   "cell_type": "code",
   "execution_count": 106,
   "metadata": {},
   "outputs": [
    {
     "data": {
      "text/plain": [
       "(1459, 80)"
      ]
     },
     "execution_count": 106,
     "metadata": {},
     "output_type": "execute_result"
    }
   ],
   "source": [
    "Test.shape"
   ]
  },
  {
   "cell_type": "code",
   "execution_count": 107,
   "metadata": {},
   "outputs": [],
   "source": [
    "#Data.isnull().sum()"
   ]
  },
  {
   "cell_type": "code",
   "execution_count": 108,
   "metadata": {},
   "outputs": [
    {
     "data": {
      "text/plain": [
       "<matplotlib.axes._subplots.AxesSubplot at 0x283809bf2e8>"
      ]
     },
     "execution_count": 108,
     "metadata": {},
     "output_type": "execute_result"
    },
    {
     "data": {
      "image/png": "[encoded data removed]",
      "text/plain": [
       "<Figure size 432x288 with 2 Axes>"
      ]
     },
     "metadata": {
      "needs_background": "light"
     },
     "output_type": "display_data"
    }
   ],
   "source": [
    "# finding the missing values\n",
    "sns.heatmap(Train.isnull())"
   ]
  },
  {
   "cell_type": "code",
   "execution_count": 109,
   "metadata": {},
   "outputs": [
    {
     "data": {
      "text/plain": [
       "Index([], dtype='object')"
      ]
     },
     "execution_count": 109,
     "metadata": {},
     "output_type": "execute_result"
    }
   ],
   "source": [
    "Train.columns[Train.isnull().any()]"
   ]
  },
  {
   "cell_type": "markdown",
   "metadata": {},
   "source": [
    "# Creating the dummies for the train and test data"
   ]
  },
  {
   "cell_type": "code",
   "execution_count": 110,
   "metadata": {},
   "outputs": [],
   "source": [
    "##converting the dummies\n",
    "Df_train=pd.get_dummies(Train)\n",
    "Df_test=pd.get_dummies(Test)"
   ]
  },
  {
   "cell_type": "code",
   "execution_count": 111,
   "metadata": {},
   "outputs": [
    {
     "data": {
      "text/plain": [
       "Index(['Id', 'MSSubClass', 'LotFrontage', 'LotArea', 'OverallQual',\n",
       "       'OverallCond', 'YearBuilt', 'YearRemodAdd', 'MasVnrArea', 'BsmtFinSF1',\n",
       "       ...\n",
       "       'SaleType_ConLw', 'SaleType_New', 'SaleType_Oth', 'SaleType_WD',\n",
       "       'SaleCondition_Abnorml', 'SaleCondition_AdjLand',\n",
       "       'SaleCondition_Alloca', 'SaleCondition_Family', 'SaleCondition_Normal',\n",
       "       'SaleCondition_Partial'],\n",
       "      dtype='object', length=290)"
      ]
     },
     "execution_count": 111,
     "metadata": {},
     "output_type": "execute_result"
    }
   ],
   "source": [
    "Df_train.columns"
   ]
  },
  {
   "cell_type": "markdown",
   "metadata": {},
   "source": [
    "\n",
    "# Applying the standard scaler"
   ]
  },
  {
   "cell_type": "code",
   "execution_count": 112,
   "metadata": {},
   "outputs": [
    {
     "name": "stderr",
     "output_type": "stream",
     "text": [
      "C:\\Users\\HEMNATH\\Anaconda3\\lib\\site-packages\\sklearn\\preprocessing\\data.py:625: DataConversionWarning: Data with input dtype uint8, int64 were all converted to float64 by StandardScaler.\n",
      "  return self.partial_fit(X, y)\n",
      "C:\\Users\\HEMNATH\\Anaconda3\\lib\\site-packages\\sklearn\\base.py:462: DataConversionWarning: Data with input dtype uint8, int64 were all converted to float64 by StandardScaler.\n",
      "  return self.fit(X, **fit_params).transform(X)\n",
      "C:\\Users\\HEMNATH\\Anaconda3\\lib\\site-packages\\sklearn\\preprocessing\\data.py:625: DataConversionWarning: Data with input dtype uint8, int64, float64 were all converted to float64 by StandardScaler.\n",
      "  return self.partial_fit(X, y)\n",
      "C:\\Users\\HEMNATH\\Anaconda3\\lib\\site-packages\\sklearn\\base.py:462: DataConversionWarning: Data with input dtype uint8, int64, float64 were all converted to float64 by StandardScaler.\n",
      "  return self.fit(X, **fit_params).transform(X)\n"
     ]
    }
   ],
   "source": [
    "#apply standard scaler\n",
    "sc=StandardScaler()\n",
    "scaledtrain=sc.fit_transform(Df_train)\n",
    "scaledtest=sc.fit_transform(Df_test)\n",
    "\n"
   ]
  },
  {
   "cell_type": "code",
   "execution_count": 113,
   "metadata": {},
   "outputs": [
    {
     "data": {
      "text/html": [
       "<div>\n",
       "<style scoped>\n",
       "    .dataframe tbody tr th:only-of-type {\n",
       "        vertical-align: middle;\n",
       "    }\n",
       "\n",
       "    .dataframe tbody tr th {\n",
       "        vertical-align: top;\n",
       "    }\n",
       "\n",
       "    .dataframe thead th {\n",
       "        text-align: right;\n",
       "    }\n",
       "</style>\n",
       "<table border=\"1\" class=\"dataframe\">\n",
       "  <thead>\n",
       "    <tr style=\"text-align: right;\">\n",
       "      <th></th>\n",
       "      <th>Id</th>\n",
       "      <th>MSSubClass</th>\n",
       "      <th>LotFrontage</th>\n",
       "      <th>LotArea</th>\n",
       "      <th>OverallQual</th>\n",
       "      <th>OverallCond</th>\n",
       "      <th>YearBuilt</th>\n",
       "      <th>YearRemodAdd</th>\n",
       "      <th>MasVnrArea</th>\n",
       "      <th>BsmtFinSF1</th>\n",
       "      <th>...</th>\n",
       "      <th>SaleType_ConLw</th>\n",
       "      <th>SaleType_New</th>\n",
       "      <th>SaleType_Oth</th>\n",
       "      <th>SaleType_WD</th>\n",
       "      <th>SaleCondition_Abnorml</th>\n",
       "      <th>SaleCondition_AdjLand</th>\n",
       "      <th>SaleCondition_Alloca</th>\n",
       "      <th>SaleCondition_Family</th>\n",
       "      <th>SaleCondition_Normal</th>\n",
       "      <th>SaleCondition_Partial</th>\n",
       "    </tr>\n",
       "  </thead>\n",
       "  <tbody>\n",
       "    <tr>\n",
       "      <th>0</th>\n",
       "      <td>-1.730864</td>\n",
       "      <td>-0.874711</td>\n",
       "      <td>0.567330</td>\n",
       "      <td>0.363929</td>\n",
       "      <td>-0.751101</td>\n",
       "      <td>0.400766</td>\n",
       "      <td>-0.340945</td>\n",
       "      <td>-1.072885</td>\n",
       "      <td>-0.563316</td>\n",
       "      <td>0.063428</td>\n",
       "      <td>...</td>\n",
       "      <td>-0.045392</td>\n",
       "      <td>-0.295268</td>\n",
       "      <td>-0.052432</td>\n",
       "      <td>0.398568</td>\n",
       "      <td>-0.254879</td>\n",
       "      <td>-0.074253</td>\n",
       "      <td>-0.091066</td>\n",
       "      <td>-0.134699</td>\n",
       "      <td>0.460211</td>\n",
       "      <td>-0.299365</td>\n",
       "    </tr>\n",
       "    <tr>\n",
       "      <th>1</th>\n",
       "      <td>-1.728490</td>\n",
       "      <td>-0.874711</td>\n",
       "      <td>0.615963</td>\n",
       "      <td>0.897861</td>\n",
       "      <td>-0.054877</td>\n",
       "      <td>0.400766</td>\n",
       "      <td>-0.439695</td>\n",
       "      <td>-1.214908</td>\n",
       "      <td>0.047057</td>\n",
       "      <td>1.063511</td>\n",
       "      <td>...</td>\n",
       "      <td>-0.045392</td>\n",
       "      <td>-0.295268</td>\n",
       "      <td>-0.052432</td>\n",
       "      <td>0.398568</td>\n",
       "      <td>-0.254879</td>\n",
       "      <td>-0.074253</td>\n",
       "      <td>-0.091066</td>\n",
       "      <td>-0.134699</td>\n",
       "      <td>0.460211</td>\n",
       "      <td>-0.299365</td>\n",
       "    </tr>\n",
       "    <tr>\n",
       "      <th>2</th>\n",
       "      <td>-1.726115</td>\n",
       "      <td>0.061351</td>\n",
       "      <td>0.275532</td>\n",
       "      <td>0.809646</td>\n",
       "      <td>-0.751101</td>\n",
       "      <td>-0.497418</td>\n",
       "      <td>0.844059</td>\n",
       "      <td>0.678742</td>\n",
       "      <td>-0.563316</td>\n",
       "      <td>0.773377</td>\n",
       "      <td>...</td>\n",
       "      <td>-0.045392</td>\n",
       "      <td>-0.295268</td>\n",
       "      <td>-0.052432</td>\n",
       "      <td>0.398568</td>\n",
       "      <td>-0.254879</td>\n",
       "      <td>-0.074253</td>\n",
       "      <td>-0.091066</td>\n",
       "      <td>-0.134699</td>\n",
       "      <td>0.460211</td>\n",
       "      <td>-0.299365</td>\n",
       "    </tr>\n",
       "    <tr>\n",
       "      <th>3</th>\n",
       "      <td>-1.723741</td>\n",
       "      <td>0.061351</td>\n",
       "      <td>0.470064</td>\n",
       "      <td>0.032064</td>\n",
       "      <td>-0.054877</td>\n",
       "      <td>0.400766</td>\n",
       "      <td>0.876976</td>\n",
       "      <td>0.678742</td>\n",
       "      <td>-0.450284</td>\n",
       "      <td>0.357958</td>\n",
       "      <td>...</td>\n",
       "      <td>-0.045392</td>\n",
       "      <td>-0.295268</td>\n",
       "      <td>-0.052432</td>\n",
       "      <td>0.398568</td>\n",
       "      <td>-0.254879</td>\n",
       "      <td>-0.074253</td>\n",
       "      <td>-0.091066</td>\n",
       "      <td>-0.134699</td>\n",
       "      <td>0.460211</td>\n",
       "      <td>-0.299365</td>\n",
       "    </tr>\n",
       "    <tr>\n",
       "      <th>4</th>\n",
       "      <td>-1.721367</td>\n",
       "      <td>1.465443</td>\n",
       "      <td>-1.232092</td>\n",
       "      <td>-0.971808</td>\n",
       "      <td>1.337571</td>\n",
       "      <td>-0.497418</td>\n",
       "      <td>0.679475</td>\n",
       "      <td>0.394694</td>\n",
       "      <td>-0.563316</td>\n",
       "      <td>-0.387160</td>\n",
       "      <td>...</td>\n",
       "      <td>-0.045392</td>\n",
       "      <td>-0.295268</td>\n",
       "      <td>-0.052432</td>\n",
       "      <td>0.398568</td>\n",
       "      <td>-0.254879</td>\n",
       "      <td>-0.074253</td>\n",
       "      <td>-0.091066</td>\n",
       "      <td>-0.134699</td>\n",
       "      <td>0.460211</td>\n",
       "      <td>-0.299365</td>\n",
       "    </tr>\n",
       "  </tbody>\n",
       "</table>\n",
       "<p>5 rows × 271 columns</p>\n",
       "</div>"
      ],
      "text/plain": [
       "         Id  MSSubClass  LotFrontage   LotArea  OverallQual  OverallCond  \\\n",
       "0 -1.730864   -0.874711     0.567330  0.363929    -0.751101     0.400766   \n",
       "1 -1.728490   -0.874711     0.615963  0.897861    -0.054877     0.400766   \n",
       "2 -1.726115    0.061351     0.275532  0.809646    -0.751101    -0.497418   \n",
       "3 -1.723741    0.061351     0.470064  0.032064    -0.054877     0.400766   \n",
       "4 -1.721367    1.465443    -1.232092 -0.971808     1.337571    -0.497418   \n",
       "\n",
       "   YearBuilt  YearRemodAdd  MasVnrArea  BsmtFinSF1          ...            \\\n",
       "0  -0.340945     -1.072885   -0.563316    0.063428          ...             \n",
       "1  -0.439695     -1.214908    0.047057    1.063511          ...             \n",
       "2   0.844059      0.678742   -0.563316    0.773377          ...             \n",
       "3   0.876976      0.678742   -0.450284    0.357958          ...             \n",
       "4   0.679475      0.394694   -0.563316   -0.387160          ...             \n",
       "\n",
       "   SaleType_ConLw  SaleType_New  SaleType_Oth  SaleType_WD  \\\n",
       "0       -0.045392     -0.295268     -0.052432     0.398568   \n",
       "1       -0.045392     -0.295268     -0.052432     0.398568   \n",
       "2       -0.045392     -0.295268     -0.052432     0.398568   \n",
       "3       -0.045392     -0.295268     -0.052432     0.398568   \n",
       "4       -0.045392     -0.295268     -0.052432     0.398568   \n",
       "\n",
       "   SaleCondition_Abnorml  SaleCondition_AdjLand  SaleCondition_Alloca  \\\n",
       "0              -0.254879              -0.074253             -0.091066   \n",
       "1              -0.254879              -0.074253             -0.091066   \n",
       "2              -0.254879              -0.074253             -0.091066   \n",
       "3              -0.254879              -0.074253             -0.091066   \n",
       "4              -0.254879              -0.074253             -0.091066   \n",
       "\n",
       "   SaleCondition_Family  SaleCondition_Normal  SaleCondition_Partial  \n",
       "0             -0.134699              0.460211              -0.299365  \n",
       "1             -0.134699              0.460211              -0.299365  \n",
       "2             -0.134699              0.460211              -0.299365  \n",
       "3             -0.134699              0.460211              -0.299365  \n",
       "4             -0.134699              0.460211              -0.299365  \n",
       "\n",
       "[5 rows x 271 columns]"
      ]
     },
     "execution_count": 113,
     "metadata": {},
     "output_type": "execute_result"
    }
   ],
   "source": [
    "scaled_train=pd.DataFrame(scaledtrain)\n",
    "scaled_train.columns=Df_train.columns\n",
    "scaled_train.head()\n",
    "\n",
    "scaled_test=pd.DataFrame(scaledtest)\n",
    "scaled_test.columns=Df_test.columns\n",
    "scaled_test.head()\n"
   ]
  },
  {
   "cell_type": "code",
   "execution_count": 114,
   "metadata": {},
   "outputs": [
    {
     "data": {
      "text/plain": [
       "Index(['Id', 'MSSubClass', 'LotFrontage', 'LotArea', 'OverallQual',\n",
       "       'OverallCond', 'YearBuilt', 'YearRemodAdd', 'MasVnrArea', 'BsmtFinSF1',\n",
       "       ...\n",
       "       'SaleType_ConLw', 'SaleType_New', 'SaleType_Oth', 'SaleType_WD',\n",
       "       'SaleCondition_Abnorml', 'SaleCondition_AdjLand',\n",
       "       'SaleCondition_Alloca', 'SaleCondition_Family', 'SaleCondition_Normal',\n",
       "       'SaleCondition_Partial'],\n",
       "      dtype='object', length=290)"
      ]
     },
     "execution_count": 114,
     "metadata": {},
     "output_type": "execute_result"
    }
   ],
   "source": [
    "scaled_train.columns"
   ]
  },
  {
   "cell_type": "code",
   "execution_count": 115,
   "metadata": {},
   "outputs": [
    {
     "data": {
      "text/plain": [
       "Index(['Id', 'MSSubClass', 'LotFrontage', 'LotArea', 'OverallQual',\n",
       "       'OverallCond', 'YearBuilt', 'YearRemodAdd', 'MasVnrArea', 'BsmtFinSF1',\n",
       "       ...\n",
       "       'SaleType_ConLw', 'SaleType_New', 'SaleType_Oth', 'SaleType_WD',\n",
       "       'SaleCondition_Abnorml', 'SaleCondition_AdjLand',\n",
       "       'SaleCondition_Alloca', 'SaleCondition_Family', 'SaleCondition_Normal',\n",
       "       'SaleCondition_Partial'],\n",
       "      dtype='object', length=271)"
      ]
     },
     "execution_count": 115,
     "metadata": {},
     "output_type": "execute_result"
    }
   ],
   "source": [
    "scaled_test.columns"
   ]
  },
  {
   "cell_type": "code",
   "execution_count": 116,
   "metadata": {},
   "outputs": [],
   "source": [
    "y=scaled_train['SalePrice']"
   ]
  },
  {
   "cell_type": "markdown",
   "metadata": {},
   "source": [
    "# PCA"
   ]
  },
  {
   "cell_type": "code",
   "execution_count": 117,
   "metadata": {},
   "outputs": [],
   "source": [
    "####   PCA\n",
    "pc=PCA(n_components=120)\n",
    "finaltrain=pc.fit_transform(scaled_train)\n",
    "finaltrain=pd.DataFrame(finaltrain)\n",
    "# turning the data  as per the pca componet value\n",
    "finaltest=pc.fit_transform(scaled_test)\n",
    "finaltest=pd.DataFrame(finaltest)"
   ]
  },
  {
   "cell_type": "code",
   "execution_count": 118,
   "metadata": {},
   "outputs": [
    {
     "data": {
      "text/plain": [
       "(1460, 120)"
      ]
     },
     "execution_count": 118,
     "metadata": {},
     "output_type": "execute_result"
    }
   ],
   "source": [
    "finaltrain.shape"
   ]
  },
  {
   "cell_type": "code",
   "execution_count": 119,
   "metadata": {},
   "outputs": [
    {
     "data": {
      "text/plain": [
       "array([0.06964815, 0.03078814, 0.02458257, 0.02074759, 0.01781829,\n",
       "       0.01647715, 0.01565199, 0.01314235, 0.01298249, 0.01206501,\n",
       "       0.01156275, 0.01132442, 0.01107484, 0.01060225, 0.01030787,\n",
       "       0.01010841, 0.00985969, 0.0095933 , 0.0094447 , 0.0094001 ,\n",
       "       0.00920479, 0.00900473, 0.00875878, 0.00868352, 0.00851851,\n",
       "       0.00844072, 0.00814504, 0.00796603, 0.00784056, 0.0077815 ,\n",
       "       0.00769414, 0.00749127, 0.00730753, 0.00721412, 0.00705912,\n",
       "       0.0069798 , 0.00693025, 0.0067588 , 0.00667865, 0.00660622,\n",
       "       0.00658956, 0.00645002, 0.00627484, 0.00614452, 0.0061355 ,\n",
       "       0.00604906, 0.00594054, 0.00590151, 0.00583359, 0.00578516,\n",
       "       0.00571067, 0.00561624, 0.00553201, 0.00551321, 0.00547104,\n",
       "       0.00540347, 0.00527891, 0.00527533, 0.0052545 , 0.00523033,\n",
       "       0.00515284, 0.0050889 , 0.00504607, 0.00496879, 0.00486061,\n",
       "       0.00480504, 0.00478874, 0.00474225, 0.00472454, 0.00468093,\n",
       "       0.00465628, 0.0045685 , 0.0045454 , 0.00446945, 0.00446039,\n",
       "       0.0043831 , 0.0043565 , 0.00427188, 0.00425641, 0.00423504,\n",
       "       0.00420954, 0.00409381, 0.00407705, 0.00406333, 0.00405318,\n",
       "       0.00397742, 0.00393316, 0.00388878, 0.0038647 , 0.00384126,\n",
       "       0.00383116, 0.00379688, 0.00377537, 0.00371707, 0.00368641,\n",
       "       0.00367396, 0.00360382, 0.00359949, 0.00354117, 0.00352391,\n",
       "       0.00346909, 0.00343637, 0.0034311 , 0.00335337, 0.00332744,\n",
       "       0.00329359, 0.00325445, 0.00321717, 0.003166  , 0.00313828,\n",
       "       0.0030828 , 0.00305247, 0.00302611, 0.0029922 , 0.00297519,\n",
       "       0.00295416, 0.00290818, 0.00287497, 0.00285094, 0.00283329])"
      ]
     },
     "execution_count": 119,
     "metadata": {},
     "output_type": "execute_result"
    }
   ],
   "source": [
    "pc.explained_variance_ratio_"
   ]
  },
  {
   "cell_type": "code",
   "execution_count": 120,
   "metadata": {},
   "outputs": [
    {
     "data": {
      "text/plain": [
       "0.840086396538483"
      ]
     },
     "execution_count": 120,
     "metadata": {},
     "output_type": "execute_result"
    }
   ],
   "source": [
    "pc.explained_variance_ratio_.sum()"
   ]
  },
  {
   "cell_type": "code",
   "execution_count": 121,
   "metadata": {},
   "outputs": [],
   "source": [
    "lr=LinearRegression()\n",
    "lr.fit(finaltrain,y)\n",
    "pred_lr=lr.predict(finaltest)"
   ]
  },
  {
   "cell_type": "code",
   "execution_count": 122,
   "metadata": {},
   "outputs": [],
   "source": [
    "# Creating the dataframe\n",
    "Id=Test['Id'].values.tolist()\n",
    "Prediction=pred_lr\n",
    "d={'Id':Id,'SalePrice':Prediction}"
   ]
  },
  {
   "cell_type": "code",
   "execution_count": 123,
   "metadata": {},
   "outputs": [
    {
     "data": {
      "text/plain": [
       "array([-0.5458672 ,  0.86182267, -0.17696642, ..., -0.1910401 ,\n",
       "       -0.39683216,  0.64224381])"
      ]
     },
     "execution_count": 123,
     "metadata": {},
     "output_type": "execute_result"
    }
   ],
   "source": [
    "pred_lr"
   ]
  },
  {
   "cell_type": "code",
   "execution_count": 124,
   "metadata": {},
   "outputs": [
    {
     "name": "stderr",
     "output_type": "stream",
     "text": [
      "C:\\Users\\HEMNATH\\Anaconda3\\lib\\site-packages\\sklearn\\preprocessing\\data.py:625: DataConversionWarning: Data with input dtype int64 were all converted to float64 by StandardScaler.\n",
      "  return self.partial_fit(X, y)\n",
      "C:\\Users\\HEMNATH\\Anaconda3\\lib\\site-packages\\sklearn\\base.py:462: DataConversionWarning: Data with input dtype int64 were all converted to float64 by StandardScaler.\n",
      "  return self.fit(X, **fit_params).transform(X)\n"
     ]
    }
   ],
   "source": [
    "scaledtarget=sc.fit_transform(pd.DataFrame(Train.SalePrice))"
   ]
  },
  {
   "cell_type": "code",
   "execution_count": 125,
   "metadata": {},
   "outputs": [],
   "source": [
    "actual_sales=sc.inverse_transform(pred_lr)"
   ]
  },
  {
   "cell_type": "code",
   "execution_count": 126,
   "metadata": {},
   "outputs": [],
   "source": [
    "solution=pd.DataFrame({'Id':Id,'saleprice':actual_sales})"
   ]
  },
  {
   "cell_type": "code",
   "execution_count": 127,
   "metadata": {},
   "outputs": [],
   "source": [
    "solution.to_csv('Linear Model.csv')"
   ]
  },
  {
   "cell_type": "code",
   "execution_count": 128,
   "metadata": {},
   "outputs": [
    {
     "data": {
      "text/plain": [
       "'C:\\\\Users\\\\HEMNATH\\\\Downloads\\\\unsupervised learning'"
      ]
     },
     "execution_count": 128,
     "metadata": {},
     "output_type": "execute_result"
    }
   ],
   "source": [
    "pwd()"
   ]
  },
  {
   "cell_type": "code",
   "execution_count": 129,
   "metadata": {},
   "outputs": [
    {
     "name": "stderr",
     "output_type": "stream",
     "text": [
      "C:\\Users\\HEMNATH\\Anaconda3\\lib\\site-packages\\sklearn\\ensemble\\forest.py:246: FutureWarning: The default value of n_estimators will change from 10 in version 0.20 to 100 in 0.22.\n",
      "  \"10 in version 0.20 to 100 in 0.22.\", FutureWarning)\n"
     ]
    }
   ],
   "source": [
    "rf=RandomForestRegressor()\n",
    "rf.fit(finaltrain,y)\n",
    "y_pred_rf=rf.predict(finaltest)"
   ]
  },
  {
   "cell_type": "code",
   "execution_count": 130,
   "metadata": {},
   "outputs": [],
   "source": [
    "y_pred_rf=sc.inverse_transform(y_pred_rf)\n",
    "solution_rf=pd.DataFrame({'Id':Id,'saleprice':y_pred_rf})"
   ]
  },
  {
   "cell_type": "code",
   "execution_count": 131,
   "metadata": {},
   "outputs": [],
   "source": [
    "solution_rf.to_csv('RandomForestRegressor.csv')"
   ]
  },
  {
   "cell_type": "code",
   "execution_count": 96,
   "metadata": {},
   "outputs": [],
   "source": [
    "bagg=BaggingRegressor()\n",
    "bagg.fit(finaltrain,y)\n",
    "y_pred_bagg=bagg.predict(finaltest)"
   ]
  },
  {
   "cell_type": "code",
   "execution_count": 97,
   "metadata": {},
   "outputs": [],
   "source": [
    "y_pred_bagg=sc.inverse_transform(y_pred_bagg)\n",
    "solution_bagg=pd.DataFrame({'Id':Id,'saleprice':y_pred_bagg})"
   ]
  },
  {
   "cell_type": "code",
   "execution_count": 98,
   "metadata": {},
   "outputs": [],
   "source": [
    "solution_bagg.to_csv('Bagging Regressor.csv')"
   ]
  },
  {
   "cell_type": "code",
   "execution_count": null,
   "metadata": {},
   "outputs": [],
   "source": []
  }
 ],
 "metadata": {
  "kernelspec": {
   "display_name": "Python 3",
   "language": "python",
   "name": "python3"
  },
  "language_info": {
   "codemirror_mode": {
    "name": "ipython",
    "version": 3
   },
   "file_extension": ".py",
   "mimetype": "text/x-python",
   "name": "python",
   "nbconvert_exporter": "python",
   "pygments_lexer": "ipython3",
   "version": "3.7.0"
  }
 },
 "nbformat": 4,
 "nbformat_minor": 2
}
