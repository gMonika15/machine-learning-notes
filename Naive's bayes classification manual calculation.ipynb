{
 "cells": [
  {
   "cell_type": "code",
   "execution_count": 1,
   "metadata": {},
   "outputs": [],
   "source": [
    "import numpy as np"
   ]
  },
  {
   "cell_type": "code",
   "execution_count": 3,
   "metadata": {},
   "outputs": [],
   "source": []
  },
  {
   "cell_type": "code",
   "execution_count": 4,
   "metadata": {},
   "outputs": [],
   "source": [
    "child_age=[8,5,6,4,3]\n",
    "child_h=[60,70,54,67,75]\n",
    "adult_age=[27,30,32,24,23]\n",
    "adult_h=[160,172,180,156,166]\n"
   ]
  },
  {
   "cell_type": "code",
   "execution_count": 12,
   "metadata": {},
   "outputs": [
    {
     "name": "stdout",
     "output_type": "stream",
     "text": [
      "the child mean age: 5.2\n",
      "the child std age: 1.7204650534085253\n"
     ]
    }
   ],
   "source": [
    "m_chA=np.mean(child_age)\n",
    "print('the child mean age:',m_ch)\n",
    "sd_chA=np.std(child_age)\n",
    "print('the child std age:',sd_ch)"
   ]
  },
  {
   "cell_type": "code",
   "execution_count": 15,
   "metadata": {},
   "outputs": [
    {
     "name": "stdout",
     "output_type": "stream",
     "text": [
      "the child mean height: 65.2\n",
      "the child std height: 7.413501197140255\n"
     ]
    }
   ],
   "source": [
    "m_chH=np.mean(child_h)\n",
    "print('the child mean height:',m_chH)\n",
    "sd_chH=np.std(child_h)\n",
    "print('the child std height:',sd_chH)"
   ]
  },
  {
   "cell_type": "code",
   "execution_count": 16,
   "metadata": {},
   "outputs": [
    {
     "name": "stdout",
     "output_type": "stream",
     "text": [
      "the adult mean age: 27.2\n",
      "the adult std age: 3.4292856398964493\n"
     ]
    }
   ],
   "source": [
    "m_adA=np.mean(adult_age)\n",
    "print('the adult mean age:',m_adA)\n",
    "sd_adA=np.std(adult_age)\n",
    "print('the adult std age:',sd_adA)"
   ]
  },
  {
   "cell_type": "code",
   "execution_count": 18,
   "metadata": {},
   "outputs": [
    {
     "name": "stdout",
     "output_type": "stream",
     "text": [
      "the adult mean height: 166.8\n",
      "the adult std height: 8.541662601625049\n"
     ]
    }
   ],
   "source": [
    "m_adH=np.mean(adult_h)\n",
    "print('the adult mean height:',m_adH)\n",
    "sd_adH=np.std(adult_h)\n",
    "print('the adult std height:',sd_adH)"
   ]
  },
  {
   "cell_type": "code",
   "execution_count": 19,
   "metadata": {},
   "outputs": [],
   "source": [
    "test=[35,178]"
   ]
  },
  {
   "cell_type": "code",
   "execution_count": 20,
   "metadata": {},
   "outputs": [
    {
     "data": {
      "text/plain": [
       "1.5241973904166374e-66"
      ]
     },
     "execution_count": 20,
     "metadata": {},
     "output_type": "execute_result"
    }
   ],
   "source": [
    "def my_gpdf(x,mean,std):\n",
    "    exp=np.exp(-((x-mean)**2)/(2*std**2))\n",
    "    return(1/(np.sqrt(2*np.pi)*std))*exp\n",
    "my_gpdf(35,5.2,1.72)"
   ]
  },
  {
   "cell_type": "code",
   "execution_count": 21,
   "metadata": {},
   "outputs": [
    {
     "data": {
      "text/plain": [
       "1.331101260128974e-05"
      ]
     },
     "execution_count": 21,
     "metadata": {},
     "output_type": "execute_result"
    }
   ],
   "source": [
    "def my_gpdf(x,mean,std):\n",
    "    exp=np.exp(-((x-mean)**2)/(2*std**2))\n",
    "    return(1/(np.sqrt(2*np.pi)*std))*exp\n",
    "my_gpdf(35,65.2,7.41)"
   ]
  },
  {
   "cell_type": "code",
   "execution_count": 23,
   "metadata": {},
   "outputs": [
    {
     "name": "stdout",
     "output_type": "stream",
     "text": [
      "2.377154053095364e-118\n"
     ]
    }
   ],
   "source": [
    "p_test_child=my_gpdf(35,m_chA,sd_chA)*my_gpdf(178,m_chH,sd_chH)*0.5\n",
    "print(p_test_child)"
   ]
  },
  {
   "cell_type": "code",
   "execution_count": 24,
   "metadata": {},
   "outputs": [
    {
     "name": "stdout",
     "output_type": "stream",
     "text": [
      "8.655628103762673e-05\n"
     ]
    }
   ],
   "source": [
    "p_test_adult=my_gpdf(35,m_adA,sd_adA)*my_gpdf(178,m_adH,sd_adH)*0.5\n",
    "print(p_test_adult)"
   ]
  },
  {
   "cell_type": "code",
   "execution_count": null,
   "metadata": {},
   "outputs": [],
   "source": []
  }
 ],
 "metadata": {
  "kernelspec": {
   "display_name": "Python 3",
   "language": "python",
   "name": "python3"
  },
  "language_info": {
   "codemirror_mode": {
    "name": "ipython",
    "version": 3
   },
   "file_extension": ".py",
   "mimetype": "text/x-python",
   "name": "python",
   "nbconvert_exporter": "python",
   "pygments_lexer": "ipython3",
   "version": "3.7.0"
  }
 },
 "nbformat": 4,
 "nbformat_minor": 2
}
