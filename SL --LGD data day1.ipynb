{
 "cells": [
  {
   "cell_type": "code",
   "execution_count": 2,
   "metadata": {},
   "outputs": [],
   "source": [
    "import numpy as np\n",
    "import pandas as pd\n",
    "from pandas import Series,DataFrame\n",
    "import matplotlib.pyplot as plt\n",
    "import seaborn as sns\n",
    "%matplotlib inline\n",
    "from sklearn.linear_model import LinearRegression"
   ]
  },
  {
   "cell_type": "code",
   "execution_count": 3,
   "metadata": {},
   "outputs": [
    {
     "data": {
      "text/html": [
       "<div>\n",
       "<style scoped>\n",
       "    .dataframe tbody tr th:only-of-type {\n",
       "        vertical-align: middle;\n",
       "    }\n",
       "\n",
       "    .dataframe tbody tr th {\n",
       "        vertical-align: top;\n",
       "    }\n",
       "\n",
       "    .dataframe thead th {\n",
       "        text-align: right;\n",
       "    }\n",
       "</style>\n",
       "<table border=\"1\" class=\"dataframe\">\n",
       "  <thead>\n",
       "    <tr style=\"text-align: right;\">\n",
       "      <th></th>\n",
       "      <th>Ac_No</th>\n",
       "      <th>Age</th>\n",
       "      <th>Years of Experience</th>\n",
       "      <th>Number of Vehicles</th>\n",
       "      <th>Gender</th>\n",
       "      <th>Married</th>\n",
       "      <th>Losses in Thousands</th>\n",
       "    </tr>\n",
       "  </thead>\n",
       "  <tbody>\n",
       "    <tr>\n",
       "      <th>0</th>\n",
       "      <td>150024</td>\n",
       "      <td>24</td>\n",
       "      <td>5</td>\n",
       "      <td>1</td>\n",
       "      <td>M</td>\n",
       "      <td>Married</td>\n",
       "      <td>203.319595</td>\n",
       "    </tr>\n",
       "    <tr>\n",
       "      <th>1</th>\n",
       "      <td>144880</td>\n",
       "      <td>31</td>\n",
       "      <td>10</td>\n",
       "      <td>1</td>\n",
       "      <td>F</td>\n",
       "      <td>Single</td>\n",
       "      <td>402.197302</td>\n",
       "    </tr>\n",
       "    <tr>\n",
       "      <th>2</th>\n",
       "      <td>133742</td>\n",
       "      <td>56</td>\n",
       "      <td>37</td>\n",
       "      <td>1</td>\n",
       "      <td>M</td>\n",
       "      <td>Married</td>\n",
       "      <td>553.132096</td>\n",
       "    </tr>\n",
       "    <tr>\n",
       "      <th>3</th>\n",
       "      <td>151282</td>\n",
       "      <td>52</td>\n",
       "      <td>31</td>\n",
       "      <td>1</td>\n",
       "      <td>F</td>\n",
       "      <td>Married</td>\n",
       "      <td>292.430579</td>\n",
       "    </tr>\n",
       "    <tr>\n",
       "      <th>4</th>\n",
       "      <td>174407</td>\n",
       "      <td>20</td>\n",
       "      <td>3</td>\n",
       "      <td>1</td>\n",
       "      <td>M</td>\n",
       "      <td>Single</td>\n",
       "      <td>246.540576</td>\n",
       "    </tr>\n",
       "  </tbody>\n",
       "</table>\n",
       "</div>"
      ],
      "text/plain": [
       "    Ac_No  Age  Years of Experience  Number of Vehicles Gender  Married  \\\n",
       "0  150024   24                    5                   1      M  Married   \n",
       "1  144880   31                   10                   1      F   Single   \n",
       "2  133742   56                   37                   1      M  Married   \n",
       "3  151282   52                   31                   1      F  Married   \n",
       "4  174407   20                    3                   1      M   Single   \n",
       "\n",
       "   Losses in Thousands  \n",
       "0           203.319595  \n",
       "1           402.197302  \n",
       "2           553.132096  \n",
       "3           292.430579  \n",
       "4           246.540576  "
      ]
     },
     "execution_count": 3,
     "metadata": {},
     "output_type": "execute_result"
    }
   ],
   "source": [
    "df=pd.read_csv('LGD_DATA.csv')\n",
    "df.head()"
   ]
  },
  {
   "cell_type": "code",
   "execution_count": 4,
   "metadata": {},
   "outputs": [
    {
     "data": {
      "text/html": [
       "<div>\n",
       "<style scoped>\n",
       "    .dataframe tbody tr th:only-of-type {\n",
       "        vertical-align: middle;\n",
       "    }\n",
       "\n",
       "    .dataframe tbody tr th {\n",
       "        vertical-align: top;\n",
       "    }\n",
       "\n",
       "    .dataframe thead th {\n",
       "        text-align: right;\n",
       "    }\n",
       "</style>\n",
       "<table border=\"1\" class=\"dataframe\">\n",
       "  <thead>\n",
       "    <tr style=\"text-align: right;\">\n",
       "      <th></th>\n",
       "      <th>Ac_No</th>\n",
       "      <th>Age</th>\n",
       "      <th>Years of Experience</th>\n",
       "      <th>Number of Vehicles</th>\n",
       "      <th>Losses in Thousands</th>\n",
       "      <th>Gender_M</th>\n",
       "      <th>Married_Single</th>\n",
       "    </tr>\n",
       "  </thead>\n",
       "  <tbody>\n",
       "    <tr>\n",
       "      <th>0</th>\n",
       "      <td>150024</td>\n",
       "      <td>24</td>\n",
       "      <td>5</td>\n",
       "      <td>1</td>\n",
       "      <td>203.319595</td>\n",
       "      <td>1</td>\n",
       "      <td>0</td>\n",
       "    </tr>\n",
       "    <tr>\n",
       "      <th>1</th>\n",
       "      <td>144880</td>\n",
       "      <td>31</td>\n",
       "      <td>10</td>\n",
       "      <td>1</td>\n",
       "      <td>402.197302</td>\n",
       "      <td>0</td>\n",
       "      <td>1</td>\n",
       "    </tr>\n",
       "    <tr>\n",
       "      <th>2</th>\n",
       "      <td>133742</td>\n",
       "      <td>56</td>\n",
       "      <td>37</td>\n",
       "      <td>1</td>\n",
       "      <td>553.132096</td>\n",
       "      <td>1</td>\n",
       "      <td>0</td>\n",
       "    </tr>\n",
       "    <tr>\n",
       "      <th>3</th>\n",
       "      <td>151282</td>\n",
       "      <td>52</td>\n",
       "      <td>31</td>\n",
       "      <td>1</td>\n",
       "      <td>292.430579</td>\n",
       "      <td>0</td>\n",
       "      <td>0</td>\n",
       "    </tr>\n",
       "    <tr>\n",
       "      <th>4</th>\n",
       "      <td>174407</td>\n",
       "      <td>20</td>\n",
       "      <td>3</td>\n",
       "      <td>1</td>\n",
       "      <td>246.540576</td>\n",
       "      <td>1</td>\n",
       "      <td>1</td>\n",
       "    </tr>\n",
       "  </tbody>\n",
       "</table>\n",
       "</div>"
      ],
      "text/plain": [
       "    Ac_No  Age  Years of Experience  Number of Vehicles  Losses in Thousands  \\\n",
       "0  150024   24                    5                   1           203.319595   \n",
       "1  144880   31                   10                   1           402.197302   \n",
       "2  133742   56                   37                   1           553.132096   \n",
       "3  151282   52                   31                   1           292.430579   \n",
       "4  174407   20                    3                   1           246.540576   \n",
       "\n",
       "   Gender_M  Married_Single  \n",
       "0         1               0  \n",
       "1         0               1  \n",
       "2         1               0  \n",
       "3         0               0  \n",
       "4         1               1  "
      ]
     },
     "execution_count": 4,
     "metadata": {},
     "output_type": "execute_result"
    }
   ],
   "source": [
    "df_new=pd.get_dummies(df,drop_first=True)\n",
    "df_new.head()"
   ]
  },
  {
   "cell_type": "code",
   "execution_count": 5,
   "metadata": {},
   "outputs": [
    {
     "data": {
      "text/html": [
       "<div>\n",
       "<style scoped>\n",
       "    .dataframe tbody tr th:only-of-type {\n",
       "        vertical-align: middle;\n",
       "    }\n",
       "\n",
       "    .dataframe tbody tr th {\n",
       "        vertical-align: top;\n",
       "    }\n",
       "\n",
       "    .dataframe thead th {\n",
       "        text-align: right;\n",
       "    }\n",
       "</style>\n",
       "<table border=\"1\" class=\"dataframe\">\n",
       "  <thead>\n",
       "    <tr style=\"text-align: right;\">\n",
       "      <th></th>\n",
       "      <th>Age</th>\n",
       "      <th>Years of Experience</th>\n",
       "      <th>Number of Vehicles</th>\n",
       "      <th>Losses in Thousands</th>\n",
       "      <th>Gender_M</th>\n",
       "      <th>Married_Single</th>\n",
       "    </tr>\n",
       "  </thead>\n",
       "  <tbody>\n",
       "    <tr>\n",
       "      <th>0</th>\n",
       "      <td>24</td>\n",
       "      <td>5</td>\n",
       "      <td>1</td>\n",
       "      <td>203.319595</td>\n",
       "      <td>1</td>\n",
       "      <td>0</td>\n",
       "    </tr>\n",
       "    <tr>\n",
       "      <th>1</th>\n",
       "      <td>31</td>\n",
       "      <td>10</td>\n",
       "      <td>1</td>\n",
       "      <td>402.197302</td>\n",
       "      <td>0</td>\n",
       "      <td>1</td>\n",
       "    </tr>\n",
       "    <tr>\n",
       "      <th>2</th>\n",
       "      <td>56</td>\n",
       "      <td>37</td>\n",
       "      <td>1</td>\n",
       "      <td>553.132096</td>\n",
       "      <td>1</td>\n",
       "      <td>0</td>\n",
       "    </tr>\n",
       "    <tr>\n",
       "      <th>3</th>\n",
       "      <td>52</td>\n",
       "      <td>31</td>\n",
       "      <td>1</td>\n",
       "      <td>292.430579</td>\n",
       "      <td>0</td>\n",
       "      <td>0</td>\n",
       "    </tr>\n",
       "    <tr>\n",
       "      <th>4</th>\n",
       "      <td>20</td>\n",
       "      <td>3</td>\n",
       "      <td>1</td>\n",
       "      <td>246.540576</td>\n",
       "      <td>1</td>\n",
       "      <td>1</td>\n",
       "    </tr>\n",
       "  </tbody>\n",
       "</table>\n",
       "</div>"
      ],
      "text/plain": [
       "   Age  Years of Experience  Number of Vehicles  Losses in Thousands  \\\n",
       "0   24                    5                   1           203.319595   \n",
       "1   31                   10                   1           402.197302   \n",
       "2   56                   37                   1           553.132096   \n",
       "3   52                   31                   1           292.430579   \n",
       "4   20                    3                   1           246.540576   \n",
       "\n",
       "   Gender_M  Married_Single  \n",
       "0         1               0  \n",
       "1         0               1  \n",
       "2         1               0  \n",
       "3         0               0  \n",
       "4         1               1  "
      ]
     },
     "execution_count": 5,
     "metadata": {},
     "output_type": "execute_result"
    }
   ],
   "source": [
    "df_new=df_new.drop(['Ac_No'],axis=1)\n",
    "df_new.head()"
   ]
  },
  {
   "cell_type": "code",
   "execution_count": 6,
   "metadata": {},
   "outputs": [],
   "source": [
    "df1=pd.DataFrame(df_new)"
   ]
  },
  {
   "cell_type": "code",
   "execution_count": 7,
   "metadata": {},
   "outputs": [
    {
     "data": {
      "image/png": "[encoded data removed]",
      "text/plain": [
       "<Figure size 432x288 with 2 Axes>"
      ]
     },
     "metadata": {
      "needs_background": "light"
     },
     "output_type": "display_data"
    }
   ],
   "source": [
    "sns.heatmap(df1.corr(),annot=True)\n",
    "plt.show()"
   ]
  },
  {
   "cell_type": "code",
   "execution_count": 8,
   "metadata": {},
   "outputs": [
    {
     "data": {
      "text/plain": [
       "LinearRegression(copy_X=True, fit_intercept=True, n_jobs=1, normalize=False)"
      ]
     },
     "execution_count": 8,
     "metadata": {},
     "output_type": "execute_result"
    }
   ],
   "source": [
    "linreg1=LinearRegression()\n",
    "linreg1.fit(pd.DataFrame(df1.iloc[:,[0,1,2,4,5]]),df1['Losses in Thousands'])"
   ]
  },
  {
   "cell_type": "code",
   "execution_count": 9,
   "metadata": {},
   "outputs": [
    {
     "data": {
      "text/plain": [
       "502.9204833236437"
      ]
     },
     "execution_count": 9,
     "metadata": {},
     "output_type": "execute_result"
    }
   ],
   "source": [
    "linreg1.intercept_"
   ]
  },
  {
   "cell_type": "code",
   "execution_count": 10,
   "metadata": {},
   "outputs": [
    {
     "data": {
      "text/plain": [
       "array([ -3.80823766,  -2.43254505,  -2.69086413,  93.8563901 ,\n",
       "       134.99809835])"
      ]
     },
     "execution_count": 10,
     "metadata": {},
     "output_type": "execute_result"
    }
   ],
   "source": [
    "linreg1.coef_"
   ]
  },
  {
   "cell_type": "code",
   "execution_count": 11,
   "metadata": {},
   "outputs": [
    {
     "name": "stdout",
     "output_type": "stream",
     "text": [
      "0        490.525580\n",
      "1        492.846900\n",
      "2        290.820534\n",
      "3        226.792364\n",
      "4        645.621719\n",
      "5        464.186757\n",
      "6        451.912806\n",
      "7        125.882989\n",
      "8        349.553547\n",
      "9        574.295915\n",
      "10       654.295047\n",
      "11       505.328465\n",
      "12       421.632321\n",
      "13       219.739379\n",
      "14       353.228361\n",
      "15       279.714661\n",
      "16       364.786497\n",
      "17       650.486809\n",
      "18       354.737477\n",
      "19       248.510747\n",
      "20       401.986544\n",
      "21       664.344067\n",
      "22       500.463375\n",
      "23       264.689325\n",
      "24       544.148854\n",
      "25       564.491544\n",
      "26       120.699058\n",
      "27       392.048749\n",
      "28       290.575884\n",
      "29       419.199776\n",
      "            ...    \n",
      "15260    346.664885\n",
      "15261    351.151901\n",
      "15262    103.953138\n",
      "15263    280.204170\n",
      "15264    201.617766\n",
      "15265    197.564879\n",
      "15266    403.755358\n",
      "15267    490.202887\n",
      "15268    351.285325\n",
      "15269    377.868798\n",
      "15270    656.271475\n",
      "15271    492.502008\n",
      "15272    454.946086\n",
      "15273    107.761376\n",
      "15274    636.173434\n",
      "15275    531.211171\n",
      "15276    528.704436\n",
      "15277    569.957370\n",
      "15278    521.273377\n",
      "15279    240.438155\n",
      "15280    343.780076\n",
      "15281    562.415085\n",
      "15282    580.006390\n",
      "15283    353.717870\n",
      "15284    537.696604\n",
      "15285    290.253191\n",
      "15286    112.626466\n",
      "15287    105.328831\n",
      "15288    492.502008\n",
      "15289    411.127183\n",
      "Name: predicted values1, Length: 15290, dtype: float64\n"
     ]
    }
   ],
   "source": [
    "df1['predicted values1']=linreg1.predict(df1.iloc[:,[0,1,2,4,5]])\n",
    "print(df1['predicted values1'])\n"
   ]
  },
  {
   "cell_type": "code",
   "execution_count": 12,
   "metadata": {},
   "outputs": [
    {
     "name": "stdout",
     "output_type": "stream",
     "text": [
      "687046053.0556364\n"
     ]
    }
   ],
   "source": [
    "SSE=sum((df1['Losses in Thousands']-df1['predicted values1'])**2)\n",
    "print(SSE)"
   ]
  },
  {
   "cell_type": "code",
   "execution_count": 16,
   "metadata": {},
   "outputs": [
    {
     "data": {
      "image/png": "[encoded data removed]",
      "text/plain": [
       "<Figure size 432x288 with 1 Axes>"
      ]
     },
     "metadata": {
      "needs_background": "light"
     },
     "output_type": "display_data"
    }
   ],
   "source": [
    "plt.hist(x=df1['Losses in Thousands'],bins=20)\n",
    "plt.show()"
   ]
  },
  {
   "cell_type": "code",
   "execution_count": 14,
   "metadata": {},
   "outputs": [
    {
     "data": {
      "text/plain": [
       "15290"
      ]
     },
     "execution_count": 14,
     "metadata": {},
     "output_type": "execute_result"
    }
   ],
   "source": [
    "n=df1.shape[0]\n",
    "n"
   ]
  },
  {
   "cell_type": "code",
   "execution_count": 15,
   "metadata": {},
   "outputs": [
    {
     "name": "stdout",
     "output_type": "stream",
     "text": [
      "211.9772149014754\n"
     ]
    }
   ],
   "source": [
    "RMSE=np.sqrt(SSE/n)\n",
    "print(RMSE)"
   ]
  },
  {
   "cell_type": "code",
   "execution_count": 16,
   "metadata": {},
   "outputs": [
    {
     "data": {
      "text/plain": [
       "0.6970064185234688"
      ]
     },
     "execution_count": 16,
     "metadata": {},
     "output_type": "execute_result"
    }
   ],
   "source": [
    "MAPE=(sum(abs((df1['Losses in Thousands']-df1['predicted values1'])/df1['Losses in Thousands'])))/n\n",
    "MAPE"
   ]
  },
  {
   "cell_type": "code",
   "execution_count": 17,
   "metadata": {},
   "outputs": [
    {
     "name": "stdout",
     "output_type": "stream",
     "text": [
      "984284800.0314227\n"
     ]
    }
   ],
   "source": [
    "TSS=sum((df1['Losses in Thousands']-np.mean(df1['Losses in Thousands']))**2)\n",
    "print(TSS)"
   ]
  },
  {
   "cell_type": "code",
   "execution_count": 18,
   "metadata": {},
   "outputs": [
    {
     "name": "stdout",
     "output_type": "stream",
     "text": [
      "0.3019844936813991\n"
     ]
    }
   ],
   "source": [
    "R2=1-(SSE/TSS)\n",
    "print(R2)"
   ]
  },
  {
   "cell_type": "code",
   "execution_count": null,
   "metadata": {},
   "outputs": [],
   "source": []
  }
 ],
 "metadata": {
  "kernelspec": {
   "display_name": "Python 3",
   "language": "python",
   "name": "python3"
  },
  "language_info": {
   "codemirror_mode": {
    "name": "ipython",
    "version": 3
   },
   "file_extension": ".py",
   "mimetype": "text/x-python",
   "name": "python",
   "nbconvert_exporter": "python",
   "pygments_lexer": "ipython3",
   "version": "3.7.0"
  }
 },
 "nbformat": 4,
 "nbformat_minor": 2
}
